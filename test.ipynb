{
 "cells": [
  {
   "cell_type": "code",
   "execution_count": 1,
   "metadata": {},
   "outputs": [
    {
     "data": {
      "text/plain": [
       "31"
      ]
     },
     "execution_count": 1,
     "metadata": {},
     "output_type": "execute_result"
    }
   ],
   "source": [
    "variable_names = ['RRsgain (HP)', 'RRpgain (HP)', 'beta (UV)', 'alpha (UV)', 'beta_resp (ErvMAX)', 'beta_resp (ElvMAX)', 'alpha_resp (R)', 'alphav_resp (R)', 'RAP_setp', \n",
    "                  'ABP_setp', 'max_RV_E', 'min_RV_E', 'sys-dias_ratio', 'HR_t0', 'STS_pressure', 'STS_muscleP', 'grav_strong', 'global_R', 'global_UV', \n",
    "                  'R_p', 'E_arteries', 'E_veins', 'v_ratio', 'max_LV_E', 'min_LV_E', \"baro_delay_para\", \"baro_delay_sympa\", \"baro_delay_BR_R\",\n",
    "                  \"baro_delay_BR_UV\", \"baro_delay_CP_R\", \"baro_delay_CP_UV\"]\n",
    "a = len(variable_names)\n",
    "a"
   ]
  },
  {
   "cell_type": "code",
   "execution_count": null,
   "metadata": {},
   "outputs": [],
   "source": []
  }
 ],
 "metadata": {
  "kernelspec": {
   "display_name": "Python 3",
   "language": "python",
   "name": "python3"
  },
  "language_info": {
   "codemirror_mode": {
    "name": "ipython",
    "version": 3
   },
   "file_extension": ".py",
   "mimetype": "text/x-python",
   "name": "python",
   "nbconvert_exporter": "python",
   "pygments_lexer": "ipython3",
   "version": "3.9.13"
  }
 },
 "nbformat": 4,
 "nbformat_minor": 2
}
