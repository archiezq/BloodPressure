{
 "cells": [
  {
   "cell_type": "code",
   "execution_count": 1,
   "metadata": {},
   "outputs": [
    {
     "data": {
      "text/plain": [
       "31"
      ]
     },
     "execution_count": 1,
     "metadata": {},
     "output_type": "execute_result"
    }
   ],
   "source": [
    "variable_names = ['RRsgain (HP)', 'RRpgain (HP)', 'beta (UV)', 'alpha (UV)', 'beta_resp (ErvMAX)', 'beta_resp (ElvMAX)', 'alpha_resp (R)', 'alphav_resp (R)', 'RAP_setp', \n",
    "                  'ABP_setp', 'max_RV_E', 'min_RV_E', 'sys-dias_ratio', 'HR_t0', 'STS_pressure', 'STS_muscleP', 'grav_strong', 'global_R', 'global_UV', \n",
    "                  'R_p', 'E_arteries', 'E_veins', 'v_ratio', 'max_LV_E', 'min_LV_E', \"baro_delay_para\", \"baro_delay_sympa\", \"baro_delay_BR_R\",\n",
    "                  \"baro_delay_BR_UV\", \"baro_delay_CP_R\", \"baro_delay_CP_UV\"]\n",
    "a = len(variable_names)\n",
    "a"
   ]
  },
  {
   "cell_type": "code",
   "execution_count": null,
   "metadata": {},
   "outputs": [],
   "source": [
    "def dC_dt(): \n",
    "    # diffussion \n",
    "    diffusion = (k_c * s_v * phi_c)/(h_c * phi_t) * (C_c/alpha_b - C_t/alpha_t) \n",
    "    # consumption \n",
    "    consumption = (M_max * C_t)/(C_t + C_50) \n",
    "    return diffusion + consumption \n",
    "\n",
    "# time sacle \n",
    "t = np.linspace(0, 1000, 1000) # 1000秒，1000个点 \n",
    "\n",
    "\n",
    "C_t = __\n",
    "C_c = __\n",
    "\n",
    "# solve \n",
    "solution = odeint(dC_dt, C_t, t, args=())\n"
   ]
  },
  {
   "cell_type": "code",
   "execution_count": 1,
   "metadata": {},
   "outputs": [],
   "source": [
    "import matplotlib.pylab as plt\n"
   ]
  },
  {
   "cell_type": "code",
   "execution_count": null,
   "metadata": {},
   "outputs": [],
   "source": [
    "store_oxygen =[[2.48556827e-04 2.37215464e-04 2.26053444e-04 2.14838874e-04\n",
    "  2.04461558e-04 1.94414780e-04 1.84982100e-04 1.75794785e-04\n",
    "  1.67007067e-04 1.58765593e-04 1.50848425e-04 1.43189754e-04\n",
    "  1.36637549e-04 1.29008100e-04 1.22520329e-04 1.16282694e-04\n",
    "  1.10358147e-04 1.04724525e-04 9.93513733e-05 9.42594144e-05\n",
    "  8.94676780e-05 8.48244269e-05 8.05497861e-05 7.63409636e-05\n",
    "  7.23882442e-05 6.87458316e-05 6.52265219e-05 6.18809221e-05\n",
    "  5.87422570e-05 5.55140683e-05 5.29105426e-05 4.99269674e-05\n",
    "  4.73253385e-05 4.48613816e-05 4.25542741e-05 4.03319859e-05\n",
    "  3.82208049e-05 3.63040990e-05 3.43643642e-05 3.26070803e-05\n",
    "  3.09215247e-05 2.93104962e-05 2.77693088e-05 2.62855673e-05\n",
    "  2.49139945e-05 2.36140263e-05 2.23874998e-05 2.12626062e-05\n",
    "  2.01802905e-05 1.91179028e-05 1.80911440e-05 1.71514024e-05\n",
    "  1.62191477e-05 1.53881518e-05 1.45983195e-05 1.38115058e-05\n",
    "  1.30962606e-05 1.24121911e-05 1.17617155e-05 1.11394987e-05\n",
    "  1.05599628e-05 1.00004040e-05 9.47889922e-06 8.97897895e-06\n",
    "  8.53061209e-06 8.06544930e-06 7.64839794e-06 7.24112249e-06]]"
   ]
  }
 ],
 "metadata": {
  "kernelspec": {
   "display_name": "Python 3",
   "language": "python",
   "name": "python3"
  },
  "language_info": {
   "codemirror_mode": {
    "name": "ipython",
    "version": 3
   },
   "file_extension": ".py",
   "mimetype": "text/x-python",
   "name": "python",
   "nbconvert_exporter": "python",
   "pygments_lexer": "ipython3",
   "version": "3.9.13"
  }
 },
 "nbformat": 4,
 "nbformat_minor": 2
}
